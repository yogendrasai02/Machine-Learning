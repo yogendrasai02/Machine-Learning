{
 "cells": [
  {
   "cell_type": "markdown",
   "id": "cd294cc0",
   "metadata": {},
   "source": [
    "# Data Preprocessing\n",
    "\n",
    "- Whenever you build a Machine Learning model, the **first step** is to **preprocess** the chosen dataset.\n",
    "\n",
    "- Data Preprocessing must be done in the **right way**, so that the model trains with the right data."
   ]
  },
  {
   "cell_type": "markdown",
   "id": "9eeb1096",
   "metadata": {},
   "source": [
    "## Importing Libraries\n",
    "\n",
    "- The following libraries are used in Data Preprocessing steps, and during building models:\n",
    "\n",
    "    - **`numpy`**: allows us to work to **arrays**, which many ML models expect as parameters.\n",
    "    \n",
    "    - **`matplotlib`**: allows us to create nice **charts and graphs** for visualization.\n",
    "    \n",
    "    - **`pandas`**: helps us in **importing** the dataset, and in creating the **Matrix of Features and the Dependent Variable vector**.\n",
    "    \n",
    "    - **`scikitlearn`**: this package contains most of the **tools and algorithms** required for majority of ML usecases.\n",
    "    \n",
    "- At a global level, we usually dont import `scikitlearn`, but we do so whenever needed, at the corresponding step."
   ]
  },
  {
   "cell_type": "code",
   "execution_count": 21,
   "id": "2dd13387",
   "metadata": {},
   "outputs": [],
   "source": [
    "# Importing libraries\n",
    "import numpy as np\n",
    "import pandas as pd\n",
    "import matplotlib.pyplot as plt"
   ]
  },
  {
   "cell_type": "markdown",
   "id": "0481de9a",
   "metadata": {},
   "source": [
    "## Importing the dataset\n",
    "\n",
    "- Most of the times, our dataset exists as a **CSV file or an Excel file**.\n",
    "\n",
    "- First step is to import the entire dataset into a **`Pandas Dataframe`**.\n",
    "\n",
    "- For demonstration, we will make use a survey about a product, which indicates if a customer from a certain country, with a given age and salary, has purchased the product or not."
   ]
  },
  {
   "cell_type": "code",
   "execution_count": 22,
   "id": "9e6132fe",
   "metadata": {},
   "outputs": [
    {
     "data": {
      "text/html": [
       "<div>\n",
       "<style scoped>\n",
       "    .dataframe tbody tr th:only-of-type {\n",
       "        vertical-align: middle;\n",
       "    }\n",
       "\n",
       "    .dataframe tbody tr th {\n",
       "        vertical-align: top;\n",
       "    }\n",
       "\n",
       "    .dataframe thead th {\n",
       "        text-align: right;\n",
       "    }\n",
       "</style>\n",
       "<table border=\"1\" class=\"dataframe\">\n",
       "  <thead>\n",
       "    <tr style=\"text-align: right;\">\n",
       "      <th></th>\n",
       "      <th>Country</th>\n",
       "      <th>Age</th>\n",
       "      <th>Salary</th>\n",
       "      <th>Purchased</th>\n",
       "    </tr>\n",
       "  </thead>\n",
       "  <tbody>\n",
       "    <tr>\n",
       "      <th>0</th>\n",
       "      <td>France</td>\n",
       "      <td>44.0</td>\n",
       "      <td>72000.0</td>\n",
       "      <td>No</td>\n",
       "    </tr>\n",
       "    <tr>\n",
       "      <th>1</th>\n",
       "      <td>Spain</td>\n",
       "      <td>27.0</td>\n",
       "      <td>48000.0</td>\n",
       "      <td>Yes</td>\n",
       "    </tr>\n",
       "    <tr>\n",
       "      <th>2</th>\n",
       "      <td>Germany</td>\n",
       "      <td>30.0</td>\n",
       "      <td>54000.0</td>\n",
       "      <td>No</td>\n",
       "    </tr>\n",
       "    <tr>\n",
       "      <th>3</th>\n",
       "      <td>Spain</td>\n",
       "      <td>38.0</td>\n",
       "      <td>61000.0</td>\n",
       "      <td>No</td>\n",
       "    </tr>\n",
       "    <tr>\n",
       "      <th>4</th>\n",
       "      <td>Germany</td>\n",
       "      <td>40.0</td>\n",
       "      <td>NaN</td>\n",
       "      <td>Yes</td>\n",
       "    </tr>\n",
       "    <tr>\n",
       "      <th>5</th>\n",
       "      <td>France</td>\n",
       "      <td>35.0</td>\n",
       "      <td>58000.0</td>\n",
       "      <td>Yes</td>\n",
       "    </tr>\n",
       "    <tr>\n",
       "      <th>6</th>\n",
       "      <td>Spain</td>\n",
       "      <td>NaN</td>\n",
       "      <td>52000.0</td>\n",
       "      <td>No</td>\n",
       "    </tr>\n",
       "    <tr>\n",
       "      <th>7</th>\n",
       "      <td>France</td>\n",
       "      <td>48.0</td>\n",
       "      <td>79000.0</td>\n",
       "      <td>Yes</td>\n",
       "    </tr>\n",
       "    <tr>\n",
       "      <th>8</th>\n",
       "      <td>Germany</td>\n",
       "      <td>50.0</td>\n",
       "      <td>83000.0</td>\n",
       "      <td>No</td>\n",
       "    </tr>\n",
       "    <tr>\n",
       "      <th>9</th>\n",
       "      <td>France</td>\n",
       "      <td>37.0</td>\n",
       "      <td>67000.0</td>\n",
       "      <td>Yes</td>\n",
       "    </tr>\n",
       "  </tbody>\n",
       "</table>\n",
       "</div>"
      ],
      "text/plain": [
       "   Country   Age   Salary Purchased\n",
       "0   France  44.0  72000.0        No\n",
       "1    Spain  27.0  48000.0       Yes\n",
       "2  Germany  30.0  54000.0        No\n",
       "3    Spain  38.0  61000.0        No\n",
       "4  Germany  40.0      NaN       Yes\n",
       "5   France  35.0  58000.0       Yes\n",
       "6    Spain   NaN  52000.0        No\n",
       "7   France  48.0  79000.0       Yes\n",
       "8  Germany  50.0  83000.0        No\n",
       "9   France  37.0  67000.0       Yes"
      ]
     },
     "execution_count": 22,
     "metadata": {},
     "output_type": "execute_result"
    }
   ],
   "source": [
    "# import entire dataset\n",
    "dataset = pd.read_csv('product_purchase_survey.csv')\n",
    "dataset"
   ]
  },
  {
   "cell_type": "markdown",
   "id": "4f164d47",
   "metadata": {},
   "source": [
    "- Any ML dataset has two entities: **Features (Independent Variables) and the Dependent Variable**.\n",
    "\n",
    "    - Features are the variables(or the columns) with which the Dependent Variable is predicted.\n",
    "    \n",
    "- Therefore, in our code, we create two entities:\n",
    "\n",
    "    - **Matrix of Features**, denoted by **`X`**.\n",
    "    \n",
    "    - **Dependent Variable Vector**, denoted by **`y`**.\n",
    "    \n",
    "- We create these two entities because most of the ML models expect these as inputs.\n",
    "    \n",
    "- Use indexing, or **`iloc`** method on a pandas dataframe to do this."
   ]
  },
  {
   "cell_type": "code",
   "execution_count": 23,
   "id": "795418aa",
   "metadata": {},
   "outputs": [],
   "source": [
    "# get the Matrix of Features\n",
    "X = dataset.iloc[:, :-1].values\n",
    "\n",
    "# get the Dependent Variable Vector\n",
    "y = dataset.iloc[:, -1].values"
   ]
  },
  {
   "cell_type": "code",
   "execution_count": 24,
   "id": "eb3f7548",
   "metadata": {},
   "outputs": [
    {
     "name": "stdout",
     "output_type": "stream",
     "text": [
      "<class 'numpy.ndarray'>\n",
      "[['France' 44.0 72000.0]\n",
      " ['Spain' 27.0 48000.0]\n",
      " ['Germany' 30.0 54000.0]\n",
      " ['Spain' 38.0 61000.0]\n",
      " ['Germany' 40.0 nan]\n",
      " ['France' 35.0 58000.0]\n",
      " ['Spain' nan 52000.0]\n",
      " ['France' 48.0 79000.0]\n",
      " ['Germany' 50.0 83000.0]\n",
      " ['France' 37.0 67000.0]]\n"
     ]
    }
   ],
   "source": [
    "print(type(X))\n",
    "print(X)"
   ]
  },
  {
   "cell_type": "code",
   "execution_count": 25,
   "id": "a6209359",
   "metadata": {},
   "outputs": [
    {
     "name": "stdout",
     "output_type": "stream",
     "text": [
      "<class 'numpy.ndarray'>\n",
      "['No' 'Yes' 'No' 'No' 'Yes' 'Yes' 'No' 'Yes' 'No' 'Yes']\n"
     ]
    }
   ],
   "source": [
    "print(type(y))\n",
    "print(y)"
   ]
  },
  {
   "cell_type": "markdown",
   "id": "2b84492c",
   "metadata": {},
   "source": [
    "## Handling Missing Data\n",
    "\n",
    "- Missing values can cause errors while training the Machine Learning model.\n",
    "\n",
    "- We have various strategies to deal with missing values, the most common one for numerical features being, replacing the missing value with the **mean** of the column.\n",
    "\n",
    "- To do this, we use `scikit-learn` package, which has a **`SimpleImpute`** class, to perform Univariate Feature Imputation. It is available in the **`impute`** module.\n",
    "\n",
    "- [SimpleImputer Documentation](https://scikit-learn.org/stable/modules/generated/sklearn.impute.SimpleImputer.html#sklearn.impute.SimpleImputer)\n",
    "\n",
    "- `SimpleImputer` handles missing data by mean, or median, or mode, or a constant value.\n",
    "\n",
    "- For doing this, we do the following steps:\n",
    "\n",
    "    - Create an object of `SimpleImputer` class.\n",
    "    \n",
    "    - **`fit`** on the Matrix of Features. This calculates the replacement.\n",
    "    \n",
    "    - **`transform`** the Matrix of Features, which actually applies the transformation.\n",
    "    \n",
    "- During object creation:\n",
    "\n",
    "    - **`missing_values`** specifies the missing values to be replaced.\n",
    "    \n",
    "    - **`strategy`** specify the replacement method.\n",
    "    \n",
    "- We can do `fit` and `transform` in two different steps, or in a single step using **`fit_transform()`** method.\n",
    "    \n",
    "- We can use **`most_frequent`** strategy to deal with missing value in a categorical column."
   ]
  },
  {
   "cell_type": "code",
   "execution_count": 26,
   "id": "0ba416df",
   "metadata": {
    "scrolled": true
   },
   "outputs": [
    {
     "data": {
      "text/plain": [
       "array([[False, False, False],\n",
       "       [False, False, False],\n",
       "       [False, False, False],\n",
       "       [False, False, False],\n",
       "       [False, False,  True],\n",
       "       [False, False, False],\n",
       "       [False,  True, False],\n",
       "       [False, False, False],\n",
       "       [False, False, False],\n",
       "       [False, False, False]])"
      ]
     },
     "execution_count": 26,
     "metadata": {},
     "output_type": "execute_result"
    }
   ],
   "source": [
    "# visualising missing data\n",
    "pd.isna(X)"
   ]
  },
  {
   "cell_type": "markdown",
   "id": "57714ff1",
   "metadata": {},
   "source": [
    "- Since our `Country` column has no missing values, we can just apply the `fit_transform` on the numerical columns."
   ]
  },
  {
   "cell_type": "code",
   "execution_count": 27,
   "id": "2d517d32",
   "metadata": {},
   "outputs": [],
   "source": [
    "# handle missing data -> replace with mean\n",
    "from sklearn.impute import SimpleImputer\n",
    "\n",
    "imputer = SimpleImputer(missing_values = np.NaN, strategy = 'mean')\n",
    "\n",
    "X[:, 1:] = imputer.fit_transform(X[:, 1:])"
   ]
  },
  {
   "cell_type": "code",
   "execution_count": 28,
   "id": "40d8e9b0",
   "metadata": {},
   "outputs": [
    {
     "name": "stdout",
     "output_type": "stream",
     "text": [
      "<class 'numpy.ndarray'>\n",
      "[['France' 44.0 72000.0]\n",
      " ['Spain' 27.0 48000.0]\n",
      " ['Germany' 30.0 54000.0]\n",
      " ['Spain' 38.0 61000.0]\n",
      " ['Germany' 40.0 63777.77777777778]\n",
      " ['France' 35.0 58000.0]\n",
      " ['Spain' 38.77777777777778 52000.0]\n",
      " ['France' 48.0 79000.0]\n",
      " ['Germany' 50.0 83000.0]\n",
      " ['France' 37.0 67000.0]]\n"
     ]
    }
   ],
   "source": [
    "print(type(X))\n",
    "print(X)"
   ]
  },
  {
   "cell_type": "markdown",
   "id": "b81709d1",
   "metadata": {},
   "source": [
    "## Encoding Categorical Data"
   ]
  },
  {
   "cell_type": "markdown",
   "id": "d8a3f73c",
   "metadata": {},
   "source": [
    "- Lets have a look at our dataset:"
   ]
  },
  {
   "cell_type": "code",
   "execution_count": 29,
   "id": "82ac8eab",
   "metadata": {},
   "outputs": [
    {
     "data": {
      "text/html": [
       "<div>\n",
       "<style scoped>\n",
       "    .dataframe tbody tr th:only-of-type {\n",
       "        vertical-align: middle;\n",
       "    }\n",
       "\n",
       "    .dataframe tbody tr th {\n",
       "        vertical-align: top;\n",
       "    }\n",
       "\n",
       "    .dataframe thead th {\n",
       "        text-align: right;\n",
       "    }\n",
       "</style>\n",
       "<table border=\"1\" class=\"dataframe\">\n",
       "  <thead>\n",
       "    <tr style=\"text-align: right;\">\n",
       "      <th></th>\n",
       "      <th>Country</th>\n",
       "      <th>Age</th>\n",
       "      <th>Salary</th>\n",
       "      <th>Purchased</th>\n",
       "    </tr>\n",
       "  </thead>\n",
       "  <tbody>\n",
       "    <tr>\n",
       "      <th>0</th>\n",
       "      <td>France</td>\n",
       "      <td>44.0</td>\n",
       "      <td>72000.0</td>\n",
       "      <td>No</td>\n",
       "    </tr>\n",
       "    <tr>\n",
       "      <th>1</th>\n",
       "      <td>Spain</td>\n",
       "      <td>27.0</td>\n",
       "      <td>48000.0</td>\n",
       "      <td>Yes</td>\n",
       "    </tr>\n",
       "    <tr>\n",
       "      <th>2</th>\n",
       "      <td>Germany</td>\n",
       "      <td>30.0</td>\n",
       "      <td>54000.0</td>\n",
       "      <td>No</td>\n",
       "    </tr>\n",
       "    <tr>\n",
       "      <th>3</th>\n",
       "      <td>Spain</td>\n",
       "      <td>38.0</td>\n",
       "      <td>61000.0</td>\n",
       "      <td>No</td>\n",
       "    </tr>\n",
       "    <tr>\n",
       "      <th>4</th>\n",
       "      <td>Germany</td>\n",
       "      <td>40.0</td>\n",
       "      <td>NaN</td>\n",
       "      <td>Yes</td>\n",
       "    </tr>\n",
       "    <tr>\n",
       "      <th>5</th>\n",
       "      <td>France</td>\n",
       "      <td>35.0</td>\n",
       "      <td>58000.0</td>\n",
       "      <td>Yes</td>\n",
       "    </tr>\n",
       "    <tr>\n",
       "      <th>6</th>\n",
       "      <td>Spain</td>\n",
       "      <td>NaN</td>\n",
       "      <td>52000.0</td>\n",
       "      <td>No</td>\n",
       "    </tr>\n",
       "    <tr>\n",
       "      <th>7</th>\n",
       "      <td>France</td>\n",
       "      <td>48.0</td>\n",
       "      <td>79000.0</td>\n",
       "      <td>Yes</td>\n",
       "    </tr>\n",
       "    <tr>\n",
       "      <th>8</th>\n",
       "      <td>Germany</td>\n",
       "      <td>50.0</td>\n",
       "      <td>83000.0</td>\n",
       "      <td>No</td>\n",
       "    </tr>\n",
       "    <tr>\n",
       "      <th>9</th>\n",
       "      <td>France</td>\n",
       "      <td>37.0</td>\n",
       "      <td>67000.0</td>\n",
       "      <td>Yes</td>\n",
       "    </tr>\n",
       "  </tbody>\n",
       "</table>\n",
       "</div>"
      ],
      "text/plain": [
       "   Country   Age   Salary Purchased\n",
       "0   France  44.0  72000.0        No\n",
       "1    Spain  27.0  48000.0       Yes\n",
       "2  Germany  30.0  54000.0        No\n",
       "3    Spain  38.0  61000.0        No\n",
       "4  Germany  40.0      NaN       Yes\n",
       "5   France  35.0  58000.0       Yes\n",
       "6    Spain   NaN  52000.0        No\n",
       "7   France  48.0  79000.0       Yes\n",
       "8  Germany  50.0  83000.0        No\n",
       "9   France  37.0  67000.0       Yes"
      ]
     },
     "execution_count": 29,
     "metadata": {},
     "output_type": "execute_result"
    }
   ],
   "source": [
    "dataset"
   ]
  },
  {
   "cell_type": "markdown",
   "id": "0833eb96",
   "metadata": {},
   "source": [
    "- Notice that `Country` and `Purchased` are **categorical variables**.\n",
    "\n",
    "- Most ML models do not accept a categorical variable as a string, hence we need to do something about it.\n",
    "\n",
    "- We have to convert those strings into **numbers, or labels**.\n",
    "\n",
    "- We might want to do the following simple encoding for `Country` column:\n",
    "\n",
    "    - Encode `France` as `0`, `Spain` as `1` and `Germany` as `2`. This actually leads to misinterpretation by the ML model because it might think that `0`, `1`, `2` are priorities, or weights but they are not.\n",
    "    \n",
    "- To avoid such misinterpretations, we do **One Hot Encoding**.\n",
    "\n",
    "- On doing One Hot Encoding on the `Country` column, say it has `N` different classes, we get the following:\n",
    "\n",
    "    - The `Country` column is converted into `N` columns, with each row representing a vector for a single class label.\n",
    "    \n",
    "    - For example, `France` may get the vector `[1 0 0]`, `Spain` gets `[0 1 0]` and `Germany` gets `[0 0 1]`.\n",
    "    \n",
    "- But if you look at the `Purchased` column, it has only `Yes` and `No`, which are Binary Class labels, so, doing a simple encoding like `1` for `Yes` and `0` for `No` works fine in Binary Categories. To do such a kind of encoding, we can use **Label Encoding**.\n",
    "\n",
    "- So, we usually do the following:\n",
    "\n",
    "    - For Independent Categorical Variables, do **One Hot Encoding**.\n",
    "    \n",
    "    - For Dependent Categorical Variables, do **Label Encoding**."
   ]
  },
  {
   "cell_type": "markdown",
   "id": "e000b7b8",
   "metadata": {},
   "source": [
    "### Encoding the Independent Variable - One Hot Encoding\n",
    "\n",
    "- We make use of two classes of `scikit-learn`:\n",
    "\n",
    "    - **`ColumnTransformer`** (available in **`compose`** module)\n",
    "    \n",
    "    - **`OneHotEncoder`** (available in **`preprocessing`** module)\n",
    "   \n",
    "> **IMPORTANT POINT:** The columns which undergo One Hot Encoding are referred to as **Dummy Variables**.\n",
    "   \n",
    "- `ColumnTransformer` uses the following syntax in our case:\n",
    "\n",
    "```python\n",
    "from sklearn.compose import ColumnTransformer\n",
    "ct = ColumnTransformer(transformers = [('encoder', transformer, list_of_column_indices)], remainder='passthrough')\n",
    "```\n",
    "\n",
    "- Here, the `transformer` is **`OneHotEncoder()`**."
   ]
  },
  {
   "cell_type": "code",
   "execution_count": 30,
   "id": "7e7ed31c",
   "metadata": {},
   "outputs": [],
   "source": [
    "# Encode `Country` (Independent Variable) column\n",
    "from sklearn.compose import ColumnTransformer\n",
    "from sklearn.preprocessing import OneHotEncoder\n",
    "\n",
    "ct = ColumnTransformer(\n",
    "    transformers = [('encoder', OneHotEncoder(), [0])],\n",
    "    remainder = 'passthrough'\n",
    ")\n",
    "\n",
    "X = ct.fit_transform(X)"
   ]
  },
  {
   "cell_type": "code",
   "execution_count": 31,
   "id": "6e4578dd",
   "metadata": {},
   "outputs": [
    {
     "name": "stdout",
     "output_type": "stream",
     "text": [
      "[[1.0 0.0 0.0 44.0 72000.0]\n",
      " [0.0 0.0 1.0 27.0 48000.0]\n",
      " [0.0 1.0 0.0 30.0 54000.0]\n",
      " [0.0 0.0 1.0 38.0 61000.0]\n",
      " [0.0 1.0 0.0 40.0 63777.77777777778]\n",
      " [1.0 0.0 0.0 35.0 58000.0]\n",
      " [0.0 0.0 1.0 38.77777777777778 52000.0]\n",
      " [1.0 0.0 0.0 48.0 79000.0]\n",
      " [0.0 1.0 0.0 50.0 83000.0]\n",
      " [1.0 0.0 0.0 37.0 67000.0]]\n",
      "<class 'numpy.ndarray'>\n"
     ]
    }
   ],
   "source": [
    "print(X)\n",
    "print(type(X))"
   ]
  },
  {
   "cell_type": "markdown",
   "id": "0df41e73",
   "metadata": {},
   "source": [
    "### Encoding the Dependent Variable - Label Encoding\n",
    "\n",
    "- We make use of **`LabelEncoder`**, available in **`sklearn.preprocessing`** module, which is specifically designed for target variables."
   ]
  },
  {
   "cell_type": "code",
   "execution_count": 32,
   "id": "54b717e3",
   "metadata": {},
   "outputs": [],
   "source": [
    "# Encode 'Purchased' (Dependent Variable) column\n",
    "from sklearn.preprocessing import LabelEncoder\n",
    "\n",
    "enc = LabelEncoder()\n",
    "\n",
    "y = enc.fit_transform(y)"
   ]
  },
  {
   "cell_type": "code",
   "execution_count": 33,
   "id": "ded8617a",
   "metadata": {},
   "outputs": [
    {
     "name": "stdout",
     "output_type": "stream",
     "text": [
      "<class 'numpy.ndarray'>\n",
      "[0 1 0 0 1 1 0 1 0 1]\n"
     ]
    }
   ],
   "source": [
    "print(type(y))\n",
    "print(y)"
   ]
  },
  {
   "cell_type": "markdown",
   "id": "6889080d",
   "metadata": {},
   "source": [
    "## Splitting dataset into Training Set and Test Set"
   ]
  },
  {
   "cell_type": "markdown",
   "id": "d1d820cd",
   "metadata": {},
   "source": [
    "- A recommended split is:\n",
    "\n",
    "    - **80%** of dataset for **training set**\n",
    "    \n",
    "    - **20%** of dataset for **test set**\n",
    "    \n",
    "- Here is a very frequently asked question: **Should feature scaling be applied before or after dataset splitting?**\n",
    "\n",
    "    - It should be applied **after** splitting the dataset into training set and test set.\n",
    "    \n",
    "    - This is because, in Feature Scaling, the mean, standard deviation are calculated and if the entire dataset is used here, it leads to **Information Leakage**.\n",
    "    \n",
    "    - The test set must be completely anonymous and new to the ML model, so, we have to **avoid** information leakage.\n",
    "    \n",
    "- To split the dataset, we make use of **`train_test_split`** function available in **`sklearn.model_selection`**, with the following syntax:\n",
    "\n",
    "```python\n",
    "from sklearn.model_selection import train_test_split\n",
    "\n",
    "train_test_split(*arrays, test_size = 0.2, random_state = 1)\n",
    "```\n",
    "\n",
    "- In place of `*arrays`, we pass in `X` and `y`.\n",
    "\n",
    "- `test_size` specifies the fraction of samples for the test set.\n",
    "\n",
    "- If `random_state` is set to `1`, the same training & test set are obtained for each execution of the function. (This is basically like setting the random seed)\\\n",
    "\n",
    "- It actaully returns a tuple, which can be unpacked by **`X_train, X_test, y_train, y_test`**."
   ]
  },
  {
   "cell_type": "code",
   "execution_count": 34,
   "id": "8b37be1b",
   "metadata": {},
   "outputs": [],
   "source": [
    "# splitting the dataset into training set and test set\n",
    "from sklearn.model_selection import train_test_split\n",
    "\n",
    "X_train, X_test, y_train, y_test = train_test_split(X, y, test_size = 0.2, random_state = 1)"
   ]
  },
  {
   "cell_type": "code",
   "execution_count": 35,
   "id": "b25feebe",
   "metadata": {},
   "outputs": [
    {
     "name": "stdout",
     "output_type": "stream",
     "text": [
      "8\n",
      "<class 'numpy.ndarray'>\n",
      "[[0.0 0.0 1.0 38.77777777777778 52000.0]\n",
      " [0.0 1.0 0.0 40.0 63777.77777777778]\n",
      " [1.0 0.0 0.0 44.0 72000.0]\n",
      " [0.0 0.0 1.0 38.0 61000.0]\n",
      " [0.0 0.0 1.0 27.0 48000.0]\n",
      " [1.0 0.0 0.0 48.0 79000.0]\n",
      " [0.0 1.0 0.0 50.0 83000.0]\n",
      " [1.0 0.0 0.0 35.0 58000.0]]\n"
     ]
    }
   ],
   "source": [
    "print(len(X_train))\n",
    "print(type(X_train))\n",
    "print(X_train)"
   ]
  },
  {
   "cell_type": "code",
   "execution_count": 36,
   "id": "2ae9c9b0",
   "metadata": {},
   "outputs": [
    {
     "name": "stdout",
     "output_type": "stream",
     "text": [
      "8\n",
      "<class 'numpy.ndarray'>\n",
      "[0 1 0 0 1 1 0 1]\n"
     ]
    }
   ],
   "source": [
    "print(len(y_train))\n",
    "print(type(y_train))\n",
    "print(y_train)"
   ]
  },
  {
   "cell_type": "code",
   "execution_count": 37,
   "id": "4dc552ab",
   "metadata": {},
   "outputs": [
    {
     "name": "stdout",
     "output_type": "stream",
     "text": [
      "2\n",
      "<class 'numpy.ndarray'>\n",
      "[[0.0 1.0 0.0 30.0 54000.0]\n",
      " [1.0 0.0 0.0 37.0 67000.0]]\n"
     ]
    }
   ],
   "source": [
    "print(len(X_test))\n",
    "print(type(X_test))\n",
    "print(X_test)"
   ]
  },
  {
   "cell_type": "code",
   "execution_count": 38,
   "id": "4046c51d",
   "metadata": {},
   "outputs": [
    {
     "name": "stdout",
     "output_type": "stream",
     "text": [
      "2\n",
      "<class 'numpy.ndarray'>\n",
      "[0 1]\n"
     ]
    }
   ],
   "source": [
    "print(len(y_test))\n",
    "print(type(y_test))\n",
    "print(y_test)"
   ]
  },
  {
   "attachments": {
    "image-2.png": {
     "image/png": "[encoded data removed]"
    },
    "image-3.png": {
     "image/png": "[encoded data removed]"
    }
   },
   "cell_type": "markdown",
   "id": "29dcb534",
   "metadata": {},
   "source": [
    "## Feature Scaling\n",
    "\n",
    "- It allows all our numerical features to be on the **same scale**, so that one feature doesnt unnecessarily dominate another feature in our ML model.\n",
    "\n",
    "- Note that only certain datasets and models require feature scaling to be done.\n",
    "\n",
    "- There are two main Feature Scaling techniques: Standardization and Normalization.\n",
    "\n",
    "- **Standardization** usually works good when the features have a normal distribution, and is done using the below formula:\n",
    "\n",
    "![image-3.png](attachment:image-3.png)\n",
    "\n",
    "Here, $-3\\le x_{stand}\\le +3$.\n",
    "\n",
    "- **Normalization** usually works good all the time, and is done using the below formula:\n",
    "\n",
    "![image-2.png](attachment:image-2.png)\n",
    "\n",
    "Here, $0\\le x_{norm}\\le +1$.\n",
    "\n",
    "- **`sklearn.preprocessing`** module has the **`StandardScaler`** class and the **`Normalizer`** class.\n",
    "\n",
    "- While doing Feature Scaling, we should:\n",
    "\n",
    "    - `fit` on `X_train`\n",
    "    \n",
    "    - `transform` `X_train`\n",
    "    \n",
    "    - `transform` `X_test` (Note that we dont fit seperately. Doing so will cause information leakage).\n",
    "    \n",
    "- Also remember that Feature Scaling of Dummy Variables is **not** required."
   ]
  },
  {
   "cell_type": "code",
   "execution_count": 39,
   "id": "4ccb8e1f",
   "metadata": {},
   "outputs": [],
   "source": [
    "# Apply Standardization (Feature Scaling) on Age and Salary columns\n",
    "from sklearn.preprocessing import StandardScaler\n",
    "\n",
    "sc = StandardScaler()\n",
    "\n",
    "sc.fit(X_train[:, 3:]) # ignore the dummy variable\n",
    "X_train[:, 3:] = sc.transform(X_train[:, 3:])\n",
    "\n",
    "X_test[:, 3:] = sc.transform(X_test[:, 3:])"
   ]
  },
  {
   "cell_type": "code",
   "execution_count": 40,
   "id": "5557d4c4",
   "metadata": {
    "scrolled": true
   },
   "outputs": [
    {
     "name": "stdout",
     "output_type": "stream",
     "text": [
      "8\n",
      "<class 'numpy.ndarray'>\n",
      "[[0.0 0.0 1.0 -0.19159184384578545 -1.0781259408412425]\n",
      " [0.0 1.0 0.0 -0.014117293757057777 -0.07013167641635372]\n",
      " [1.0 0.0 0.0 0.566708506533324 0.633562432710455]\n",
      " [0.0 0.0 1.0 -0.30453019390224867 -0.30786617274297867]\n",
      " [0.0 0.0 1.0 -1.9018011447007988 -1.420463615551582]\n",
      " [1.0 0.0 0.0 1.1475343068237058 1.232653363453549]\n",
      " [0.0 1.0 0.0 1.4379472069688968 1.5749910381638885]\n",
      " [1.0 0.0 0.0 -0.7401495441200351 -0.5646194287757332]]\n"
     ]
    }
   ],
   "source": [
    "print(len(X_train))\n",
    "print(type(X_train))\n",
    "print(X_train)"
   ]
  }
 ],
 "metadata": {
  "kernelspec": {
   "display_name": "Python 3 (ipykernel)",
   "language": "python",
   "name": "python3"
  },
  "language_info": {
   "codemirror_mode": {
    "name": "ipython",
    "version": 3
   },
   "file_extension": ".py",
   "mimetype": "text/x-python",
   "name": "python",
   "nbconvert_exporter": "python",
   "pygments_lexer": "ipython3",
   "version": "3.9.12"
  }
 },
 "nbformat": 4,
 "nbformat_minor": 5
}
