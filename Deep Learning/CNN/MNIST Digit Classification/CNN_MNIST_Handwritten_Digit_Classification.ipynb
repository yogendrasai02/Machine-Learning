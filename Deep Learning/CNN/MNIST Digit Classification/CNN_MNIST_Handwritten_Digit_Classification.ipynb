{
  "nbformat": 4,
  "nbformat_minor": 0,
  "metadata": {
    "colab": {
      "provenance": []
    },
    "kernelspec": {
      "name": "python3",
      "display_name": "Python 3"
    },
    "language_info": {
      "name": "python"
    }
  },
  "cells": [
    {
      "cell_type": "markdown",
      "source": [
        "- MNIST Dataset: http://yann.lecun.com/exdb/mnist/\n",
        "\n",
        "- Has 60000 images in the training set and 10000 images in the test set.\n",
        "    - Each image has a size of 28*28 px"
      ],
      "metadata": {
        "id": "3wlthVMG-sag"
      }
    },
    {
      "cell_type": "code",
      "source": [
        "# load some general libraries\n",
        "import tensorflow as tf\n",
        "import matplotlib.pyplot as plt"
      ],
      "metadata": {
        "id": "84LhKTpYCcx1"
      },
      "execution_count": 1,
      "outputs": []
    },
    {
      "cell_type": "code",
      "source": [
        "tf.__version__"
      ],
      "metadata": {
        "colab": {
          "base_uri": "https://localhost:8080/",
          "height": 36
        },
        "id": "961UTAPeardK",
        "outputId": "39794b87-c2a5-4653-f481-7a7ee11793f9"
      },
      "execution_count": 2,
      "outputs": [
        {
          "output_type": "execute_result",
          "data": {
            "text/plain": [
              "'2.9.2'"
            ],
            "application/vnd.google.colaboratory.intrinsic+json": {
              "type": "string"
            }
          },
          "metadata": {},
          "execution_count": 2
        }
      ]
    },
    {
      "cell_type": "markdown",
      "source": [
        "# Loading MNIST Dataset\n",
        "\n",
        "- Tensorflow has an inbuilt MNIST Dataset: https://www.tensorflow.org/api_docs/python/tf/keras/datasets/mnist/load_data\n",
        "\n",
        "- `tensorflow.keras.datasets` has `mnist` module, which has a `load_data()` function. \n",
        "\n",
        "- It returns a tuple of numpy arrays as `(x_train, y_train), (x_test, y_test)`\n",
        "\n",
        "- `x_train`: numpy array of grayscale image data with 60000 samples.\n",
        "\n",
        "- `y_train`: digit labels for the 60000 training samples.\n",
        "\n",
        "- `x_test`: numpy array of grayscale image data with 10000 samples.\n",
        "\n",
        "- `y_test`: digit labels for 10000 testing samples"
      ],
      "metadata": {
        "id": "XxdSI5jp_Yck"
      }
    },
    {
      "cell_type": "code",
      "execution_count": 3,
      "metadata": {
        "id": "pc4Awmy9-j5t"
      },
      "outputs": [],
      "source": [
        "from tensorflow.keras.datasets import mnist\n",
        "\n",
        "(x_train, y_train), (x_test, y_test) = mnist.load_data()"
      ]
    },
    {
      "cell_type": "markdown",
      "source": [
        "## Visualizing dataset size & dimensions"
      ],
      "metadata": {
        "id": "PYfSyy3gBD0y"
      }
    },
    {
      "cell_type": "code",
      "source": [
        "# see the shapes\n",
        "print('x_train:', x_train.shape)\n",
        "print('y_train:', y_train.shape)\n",
        "print('x_test:', x_test.shape)\n",
        "print('y_test:', y_test.shape)"
      ],
      "metadata": {
        "colab": {
          "base_uri": "https://localhost:8080/"
        },
        "id": "gfiZTNLp_sno",
        "outputId": "3a23468d-cbd4-4b0c-f94a-1dd5af0c427b"
      },
      "execution_count": 4,
      "outputs": [
        {
          "output_type": "stream",
          "name": "stdout",
          "text": [
            "x_train: (60000, 28, 28)\n",
            "y_train: (60000,)\n",
            "x_test: (10000, 28, 28)\n",
            "y_test: (10000,)\n"
          ]
        }
      ]
    },
    {
      "cell_type": "markdown",
      "source": [
        "## Visualising the content of the training and test set"
      ],
      "metadata": {
        "id": "Coz_C1gXA97q"
      }
    },
    {
      "cell_type": "code",
      "source": [
        "# visualizing the training set\n",
        "print('Dimensions:', x_train[0].ndim)\n",
        "print('Shape:', x_train[0].shape)\n",
        "print('One matrix:')\n",
        "print(x_train[0])"
      ],
      "metadata": {
        "colab": {
          "base_uri": "https://localhost:8080/"
        },
        "id": "h4N5htBrA1w-",
        "outputId": "88e62cc6-ef41-4197-ea98-4dacda377a66"
      },
      "execution_count": 5,
      "outputs": [
        {
          "output_type": "stream",
          "name": "stdout",
          "text": [
            "Dimensions: 2\n",
            "Shape: (28, 28)\n",
            "One matrix:\n",
            "[[  0   0   0   0   0   0   0   0   0   0   0   0   0   0   0   0   0   0\n",
            "    0   0   0   0   0   0   0   0   0   0]\n",
            " [  0   0   0   0   0   0   0   0   0   0   0   0   0   0   0   0   0   0\n",
            "    0   0   0   0   0   0   0   0   0   0]\n",
            " [  0   0   0   0   0   0   0   0   0   0   0   0   0   0   0   0   0   0\n",
            "    0   0   0   0   0   0   0   0   0   0]\n",
            " [  0   0   0   0   0   0   0   0   0   0   0   0   0   0   0   0   0   0\n",
            "    0   0   0   0   0   0   0   0   0   0]\n",
            " [  0   0   0   0   0   0   0   0   0   0   0   0   0   0   0   0   0   0\n",
            "    0   0   0   0   0   0   0   0   0   0]\n",
            " [  0   0   0   0   0   0   0   0   0   0   0   0   3  18  18  18 126 136\n",
            "  175  26 166 255 247 127   0   0   0   0]\n",
            " [  0   0   0   0   0   0   0   0  30  36  94 154 170 253 253 253 253 253\n",
            "  225 172 253 242 195  64   0   0   0   0]\n",
            " [  0   0   0   0   0   0   0  49 238 253 253 253 253 253 253 253 253 251\n",
            "   93  82  82  56  39   0   0   0   0   0]\n",
            " [  0   0   0   0   0   0   0  18 219 253 253 253 253 253 198 182 247 241\n",
            "    0   0   0   0   0   0   0   0   0   0]\n",
            " [  0   0   0   0   0   0   0   0  80 156 107 253 253 205  11   0  43 154\n",
            "    0   0   0   0   0   0   0   0   0   0]\n",
            " [  0   0   0   0   0   0   0   0   0  14   1 154 253  90   0   0   0   0\n",
            "    0   0   0   0   0   0   0   0   0   0]\n",
            " [  0   0   0   0   0   0   0   0   0   0   0 139 253 190   2   0   0   0\n",
            "    0   0   0   0   0   0   0   0   0   0]\n",
            " [  0   0   0   0   0   0   0   0   0   0   0  11 190 253  70   0   0   0\n",
            "    0   0   0   0   0   0   0   0   0   0]\n",
            " [  0   0   0   0   0   0   0   0   0   0   0   0  35 241 225 160 108   1\n",
            "    0   0   0   0   0   0   0   0   0   0]\n",
            " [  0   0   0   0   0   0   0   0   0   0   0   0   0  81 240 253 253 119\n",
            "   25   0   0   0   0   0   0   0   0   0]\n",
            " [  0   0   0   0   0   0   0   0   0   0   0   0   0   0  45 186 253 253\n",
            "  150  27   0   0   0   0   0   0   0   0]\n",
            " [  0   0   0   0   0   0   0   0   0   0   0   0   0   0   0  16  93 252\n",
            "  253 187   0   0   0   0   0   0   0   0]\n",
            " [  0   0   0   0   0   0   0   0   0   0   0   0   0   0   0   0   0 249\n",
            "  253 249  64   0   0   0   0   0   0   0]\n",
            " [  0   0   0   0   0   0   0   0   0   0   0   0   0   0  46 130 183 253\n",
            "  253 207   2   0   0   0   0   0   0   0]\n",
            " [  0   0   0   0   0   0   0   0   0   0   0   0  39 148 229 253 253 253\n",
            "  250 182   0   0   0   0   0   0   0   0]\n",
            " [  0   0   0   0   0   0   0   0   0   0  24 114 221 253 253 253 253 201\n",
            "   78   0   0   0   0   0   0   0   0   0]\n",
            " [  0   0   0   0   0   0   0   0  23  66 213 253 253 253 253 198  81   2\n",
            "    0   0   0   0   0   0   0   0   0   0]\n",
            " [  0   0   0   0   0   0  18 171 219 253 253 253 253 195  80   9   0   0\n",
            "    0   0   0   0   0   0   0   0   0   0]\n",
            " [  0   0   0   0  55 172 226 253 253 253 253 244 133  11   0   0   0   0\n",
            "    0   0   0   0   0   0   0   0   0   0]\n",
            " [  0   0   0   0 136 253 253 253 212 135 132  16   0   0   0   0   0   0\n",
            "    0   0   0   0   0   0   0   0   0   0]\n",
            " [  0   0   0   0   0   0   0   0   0   0   0   0   0   0   0   0   0   0\n",
            "    0   0   0   0   0   0   0   0   0   0]\n",
            " [  0   0   0   0   0   0   0   0   0   0   0   0   0   0   0   0   0   0\n",
            "    0   0   0   0   0   0   0   0   0   0]\n",
            " [  0   0   0   0   0   0   0   0   0   0   0   0   0   0   0   0   0   0\n",
            "    0   0   0   0   0   0   0   0   0   0]]\n"
          ]
        }
      ]
    },
    {
      "cell_type": "code",
      "source": [
        "# visualizing the output lables for the training set\n",
        "print(y_train[0:10])"
      ],
      "metadata": {
        "colab": {
          "base_uri": "https://localhost:8080/"
        },
        "id": "73iyW-hdBT_q",
        "outputId": "5c245bc8-d0e1-4d81-babc-e95828031aad"
      },
      "execution_count": 6,
      "outputs": [
        {
          "output_type": "stream",
          "name": "stdout",
          "text": [
            "[5 0 4 1 9 2 1 3 1 4]\n"
          ]
        }
      ]
    },
    {
      "cell_type": "markdown",
      "source": [
        "## Plotting a single handwritten digit image"
      ],
      "metadata": {
        "id": "g2OBM6MtCUc9"
      }
    },
    {
      "cell_type": "code",
      "source": [
        "image = x_train[0]\n",
        "\n",
        "fig = plt.figure()\n",
        "plt.imshow(image, cmap = 'gray')\n",
        "plt.show()"
      ],
      "metadata": {
        "colab": {
          "base_uri": "https://localhost:8080/",
          "height": 265
        },
        "id": "ohDSaNI0B_Ee",
        "outputId": "cd3dd099-9d49-4768-ef0f-89fe8b099a6e"
      },
      "execution_count": 7,
      "outputs": [
        {
          "output_type": "display_data",
          "data": {
            "text/plain": [
              "<Figure size 432x288 with 1 Axes>"
            ],
            "image/png": "[encoded data removed]"
          },
          "metadata": {
            "needs_background": "light"
          }
        }
      ]
    },
    {
      "cell_type": "markdown",
      "source": [
        "## Plotting multiple handwritten digit images"
      ],
      "metadata": {
        "id": "eIGYBrJRDpsf"
      }
    },
    {
      "cell_type": "code",
      "source": [
        "# plot first 25 handwritten digits\n",
        "n = 25\n",
        "\n",
        "images = x_train[:n]\n",
        "labels = y_train[:n]\n",
        "\n",
        "plot_rows = 5\n",
        "plot_cols = 5\n",
        "\n",
        "fig, axes = plt.subplots(plot_rows, plot_cols, figsize = (2 * plot_cols, 2.5 * plot_rows))\n",
        "for i in range(n):\n",
        "    ax = axes[i // plot_cols, i % plot_cols]\n",
        "    ax.imshow(images[i], cmap = 'gray')\n",
        "    ax.set_title(f'Digit: {labels[i]}')\n",
        "\n",
        "plt.show()"
      ],
      "metadata": {
        "colab": {
          "base_uri": "https://localhost:8080/",
          "height": 722
        },
        "id": "HOHc3UyaCtpz",
        "outputId": "cedc8a97-cbf6-49c6-9d5d-6d494367397e"
      },
      "execution_count": 8,
      "outputs": [
        {
          "output_type": "display_data",
          "data": {
            "text/plain": [
              "<Figure size 720x900 with 25 Axes>"
            ],
            "image/png": "[encoded data removed]"
          },
          "metadata": {
            "needs_background": "light"
          }
        }
      ]
    },
    {
      "cell_type": "markdown",
      "source": [
        "# Preparing Pixel Data"
      ],
      "metadata": {
        "id": "xsVAZF4FcLtj"
      }
    },
    {
      "cell_type": "markdown",
      "source": [
        "## Reshaping dataset\n",
        "\n",
        "- Reshape `x_train, x_test` into a single color channel."
      ],
      "metadata": {
        "id": "TGoBU_GDcS-D"
      }
    },
    {
      "cell_type": "code",
      "source": [
        "# reshape dataset to have a single channel\n",
        "x_train = x_train.reshape(x_train.shape[0], 28, 28, 1)\n",
        "x_test = x_test.reshape(x_test.shape[0], 28, 28, 1)"
      ],
      "metadata": {
        "id": "4kHJ7JdEEWXS"
      },
      "execution_count": 10,
      "outputs": []
    },
    {
      "cell_type": "code",
      "source": [
        "print(x_train.ndim)\n",
        "print(x_train.shape)\n",
        "print(x_train[0].ndim)\n",
        "print(x_train[0].shape)"
      ],
      "metadata": {
        "colab": {
          "base_uri": "https://localhost:8080/"
        },
        "id": "dDssmE2Fcsjk",
        "outputId": "92c155c5-5384-4537-b940-785e70c8c91c"
      },
      "execution_count": 11,
      "outputs": [
        {
          "output_type": "stream",
          "name": "stdout",
          "text": [
            "4\n",
            "(60000, 28, 28, 1)\n",
            "3\n",
            "(28, 28, 1)\n"
          ]
        }
      ]
    },
    {
      "cell_type": "code",
      "source": [
        "print(x_test.ndim)\n",
        "print(x_test.shape)\n",
        "print(x_test[0].ndim)\n",
        "print(x_test[0].shape)"
      ],
      "metadata": {
        "colab": {
          "base_uri": "https://localhost:8080/"
        },
        "id": "O_ouvzT9u9tk",
        "outputId": "87d7bdf6-1af6-4243-c571-5cfbbe26d0a7"
      },
      "execution_count": 12,
      "outputs": [
        {
          "output_type": "stream",
          "name": "stdout",
          "text": [
            "4\n",
            "(10000, 28, 28, 1)\n",
            "3\n",
            "(28, 28, 1)\n"
          ]
        }
      ]
    },
    {
      "cell_type": "markdown",
      "source": [
        "## Encoding target variable\n",
        "\n",
        "- Do OneHotEncoding for target variable in training and test set."
      ],
      "metadata": {
        "id": "j6G0ubC0dDi_"
      }
    },
    {
      "cell_type": "code",
      "source": [
        "from tensorflow.keras.utils import to_categorical\n",
        "\n",
        "y_train = to_categorical(y_train, 10)\n",
        "y_test = to_categorical(y_test, 10)"
      ],
      "metadata": {
        "id": "aylUOwrucuE6"
      },
      "execution_count": 13,
      "outputs": []
    },
    {
      "cell_type": "code",
      "source": [
        "print(y_train.ndim)\n",
        "print(y_train.shape)\n",
        "print(y_train[0].shape)\n",
        "print(y_train[0])"
      ],
      "metadata": {
        "colab": {
          "base_uri": "https://localhost:8080/"
        },
        "id": "64rBNg44dcoU",
        "outputId": "a815b56d-6b53-42bd-e981-9f6f0b3d062c"
      },
      "execution_count": 14,
      "outputs": [
        {
          "output_type": "stream",
          "name": "stdout",
          "text": [
            "2\n",
            "(60000, 10)\n",
            "(10,)\n",
            "[0. 0. 0. 0. 0. 1. 0. 0. 0. 0.]\n"
          ]
        }
      ]
    },
    {
      "cell_type": "code",
      "source": [
        "print(y_test.ndim)\n",
        "print(y_test.shape)\n",
        "print(y_test[0].shape)\n",
        "print(y_test[0])"
      ],
      "metadata": {
        "colab": {
          "base_uri": "https://localhost:8080/"
        },
        "id": "M0wzt4OjvVhX",
        "outputId": "99553f12-da5d-466c-ffa6-ef2327580de8"
      },
      "execution_count": 15,
      "outputs": [
        {
          "output_type": "stream",
          "name": "stdout",
          "text": [
            "2\n",
            "(10000, 10)\n",
            "(10,)\n",
            "[0. 0. 0. 0. 0. 0. 0. 1. 0. 0.]\n"
          ]
        }
      ]
    },
    {
      "cell_type": "markdown",
      "source": [
        "## Feature Scaling\n",
        "\n",
        "- Pixel intensity values are from 1 to 255.\n",
        "\n",
        "- Lets normalize those values i.e, they will take a range between 0 and 1.\n",
        "\n",
        "- Divide each value by 255."
      ],
      "metadata": {
        "id": "ZGqHrqwvdnOu"
      }
    },
    {
      "cell_type": "code",
      "source": [
        "# normalize image pixel intensities\n",
        "x_train = x_train / 255.0\n",
        "x_test = x_test / 255.0"
      ],
      "metadata": {
        "id": "mlym2j02dd_t"
      },
      "execution_count": 16,
      "outputs": []
    },
    {
      "cell_type": "code",
      "source": [
        "print(x_train.ndim)\n",
        "print(x_train.shape)\n",
        "print(x_train[0].ndim)\n",
        "print(x_train[0].shape)\n",
        "print('-----')\n",
        "print(x_test.ndim)\n",
        "print(x_test.shape)\n",
        "print(x_test[0].ndim)\n",
        "print(x_test[0].shape)"
      ],
      "metadata": {
        "colab": {
          "base_uri": "https://localhost:8080/"
        },
        "id": "qvSv7Px6vbkc",
        "outputId": "485580aa-be95-4743-d271-3423d5e9ac17"
      },
      "execution_count": 17,
      "outputs": [
        {
          "output_type": "stream",
          "name": "stdout",
          "text": [
            "4\n",
            "(60000, 28, 28, 1)\n",
            "3\n",
            "(28, 28, 1)\n",
            "-----\n",
            "4\n",
            "(10000, 28, 28, 1)\n",
            "3\n",
            "(28, 28, 1)\n"
          ]
        }
      ]
    },
    {
      "cell_type": "markdown",
      "source": [
        "# Define the model\n",
        "\n",
        "- Lets try out an initial architecture. Later, we can do some improvements.\n",
        "\n",
        "- 2 things: CNN + ANN for predictions\n",
        "\n",
        "- Use a single convolutional layer, with:\n",
        "    - a feature detector (filter) of size 3*3.\n",
        "    - 32 filters\n",
        "\n",
        "- Next, use a Max Pooling layer.\n",
        "\n",
        "- Next, use a Flattening layer.\n",
        "\n",
        "- Now, use a fully-connected (hidden) layer with:\n",
        "    - 100 units (neurons)\n",
        "\n",
        "- For both the Conv layer and the hidden layer, use:\n",
        "    - ReLU activation (best practice)\n",
        "    - He weight initialization scheme (best practice)\n",
        "\n",
        "- Next comes the output layer with:\n",
        "    - 10 neurons (since we have 10 output labels)\n",
        "    - softmax activation\n",
        "\n",
        "- When compiling the model:\n",
        "    - use a Stochastic Gradient Descent optimiser, with:\n",
        "        - learning rate of 0.01\n",
        "        - momentum of 0.9\n",
        "    - use categorical cross-entropy as the loss function"
      ],
      "metadata": {
        "id": "98jLpLllfCg4"
      }
    },
    {
      "cell_type": "code",
      "source": [
        "from tensorflow.keras import Sequential\n",
        "from tensorflow.keras.layers import Conv2D, MaxPool2D, Flatten, Dense\n",
        "\n",
        "model = Sequential()\n",
        "\n",
        "# add 1st Convolutional layer (connects to input layer)\n",
        "model.add(\n",
        "    Conv2D(\n",
        "        32, # filters\n",
        "        (3, 3), # filter size (kernel size)\n",
        "        kernel_initializer = 'he_uniform',\n",
        "        activation = 'relu',\n",
        "        input_shape = (28, 28, 1), # x_train[i].shape\n",
        "    )\n",
        ")\n",
        "\n",
        "# add Max Pooling layer\n",
        "model.add(\n",
        "    MaxPool2D(pool_size = (2, 2))\n",
        ")\n",
        "\n",
        "# add a Flattening layer\n",
        "model.add(Flatten())\n",
        "\n",
        "# Now, add the ANN\n",
        "# add a hidden layer (Dense, fully connected)\n",
        "model.add(\n",
        "    Dense(\n",
        "        units = 100,\n",
        "        activation = 'relu',\n",
        "        kernel_initializer = 'he_uniform'\n",
        "    )\n",
        ")\n",
        "\n",
        "# add the output layer\n",
        "model.add(\n",
        "    Dense(units = 10, activation = 'softmax')\n",
        ")"
      ],
      "metadata": {
        "id": "mm5BAQ0TfJxG"
      },
      "execution_count": 18,
      "outputs": []
    },
    {
      "cell_type": "markdown",
      "source": [
        "## Compile the model"
      ],
      "metadata": {
        "id": "W2KGRr8HnAuQ"
      }
    },
    {
      "cell_type": "code",
      "source": [
        "from tensorflow.keras.optimizers import SGD\n",
        "\n",
        "optimiser = SGD(learning_rate = 0.01, momentum = 0.9)\n",
        "\n",
        "model.compile(\n",
        "    optimizer = optimiser,\n",
        "    loss = 'categorical_crossentropy',\n",
        "    metrics = ['accuracy']\n",
        ")"
      ],
      "metadata": {
        "id": "HYRwOaFKm_Iq"
      },
      "execution_count": 19,
      "outputs": []
    },
    {
      "cell_type": "code",
      "source": [
        "model.summary()"
      ],
      "metadata": {
        "colab": {
          "base_uri": "https://localhost:8080/"
        },
        "id": "atyOS3lQoXf6",
        "outputId": "7b3bd536-f7f8-4679-ed05-6cf370067b04"
      },
      "execution_count": 20,
      "outputs": [
        {
          "output_type": "stream",
          "name": "stdout",
          "text": [
            "Model: \"sequential\"\n",
            "_________________________________________________________________\n",
            " Layer (type)                Output Shape              Param #   \n",
            "=================================================================\n",
            " conv2d (Conv2D)             (None, 26, 26, 32)        320       \n",
            "                                                                 \n",
            " max_pooling2d (MaxPooling2D  (None, 13, 13, 32)       0         \n",
            " )                                                               \n",
            "                                                                 \n",
            " flatten (Flatten)           (None, 5408)              0         \n",
            "                                                                 \n",
            " dense (Dense)               (None, 100)               540900    \n",
            "                                                                 \n",
            " dense_1 (Dense)             (None, 10)                1010      \n",
            "                                                                 \n",
            "=================================================================\n",
            "Total params: 542,230\n",
            "Trainable params: 542,230\n",
            "Non-trainable params: 0\n",
            "_________________________________________________________________\n"
          ]
        }
      ]
    },
    {
      "cell_type": "markdown",
      "source": [
        "# Train & Evaluate the model\n",
        "\n",
        "- Train for 10 epochs using a batch size of 32, with the test set as the validation data."
      ],
      "metadata": {
        "id": "TuTLsSIxoP-f"
      }
    },
    {
      "cell_type": "code",
      "source": [
        "# train the model\n",
        "model.fit(x_train, y_train, batch_size = 32, epochs = 10, validation_data = (x_test, y_test))"
      ],
      "metadata": {
        "colab": {
          "base_uri": "https://localhost:8080/"
        },
        "id": "QQ8Ffnlcs7yn",
        "outputId": "3bea3cf6-599d-453a-b229-421b529f4743"
      },
      "execution_count": 21,
      "outputs": [
        {
          "output_type": "stream",
          "name": "stdout",
          "text": [
            "Epoch 1/10\n",
            "1875/1875 [==============================] - 52s 27ms/step - loss: 0.1615 - accuracy: 0.9512 - val_loss: 0.0634 - val_accuracy: 0.9790\n",
            "Epoch 2/10\n",
            "1875/1875 [==============================] - 41s 22ms/step - loss: 0.0562 - accuracy: 0.9830 - val_loss: 0.0533 - val_accuracy: 0.9836\n",
            "Epoch 3/10\n",
            "1875/1875 [==============================] - 41s 22ms/step - loss: 0.0362 - accuracy: 0.9892 - val_loss: 0.0485 - val_accuracy: 0.9845\n",
            "Epoch 4/10\n",
            "1875/1875 [==============================] - 43s 23ms/step - loss: 0.0248 - accuracy: 0.9926 - val_loss: 0.0413 - val_accuracy: 0.9857\n",
            "Epoch 5/10\n",
            "1875/1875 [==============================] - 47s 25ms/step - loss: 0.0179 - accuracy: 0.9945 - val_loss: 0.0377 - val_accuracy: 0.9878\n",
            "Epoch 6/10\n",
            "1875/1875 [==============================] - 41s 22ms/step - loss: 0.0125 - accuracy: 0.9965 - val_loss: 0.0413 - val_accuracy: 0.9863\n",
            "Epoch 7/10\n",
            "1875/1875 [==============================] - 43s 23ms/step - loss: 0.0081 - accuracy: 0.9981 - val_loss: 0.0371 - val_accuracy: 0.9876\n",
            "Epoch 8/10\n",
            "1875/1875 [==============================] - 41s 22ms/step - loss: 0.0054 - accuracy: 0.9988 - val_loss: 0.0396 - val_accuracy: 0.9877\n",
            "Epoch 9/10\n",
            "1875/1875 [==============================] - 40s 21ms/step - loss: 0.0035 - accuracy: 0.9995 - val_loss: 0.0449 - val_accuracy: 0.9867\n",
            "Epoch 10/10\n",
            "1875/1875 [==============================] - 40s 22ms/step - loss: 0.0024 - accuracy: 0.9996 - val_loss: 0.0401 - val_accuracy: 0.9888\n"
          ]
        },
        {
          "output_type": "execute_result",
          "data": {
            "text/plain": [
              "<keras.callbacks.History at 0x7f5381a5e090>"
            ]
          },
          "metadata": {},
          "execution_count": 21
        }
      ]
    },
    {
      "cell_type": "code",
      "source": [
        "# evaluate the model\n",
        "loss, accuracy = model.evaluate(x_test, y_test)"
      ],
      "metadata": {
        "colab": {
          "base_uri": "https://localhost:8080/"
        },
        "id": "5IIkoGKFtKVK",
        "outputId": "260eaea3-693c-4fb1-989a-1b88ce363d1d"
      },
      "execution_count": 22,
      "outputs": [
        {
          "output_type": "stream",
          "name": "stdout",
          "text": [
            "313/313 [==============================] - 4s 13ms/step - loss: 0.0401 - accuracy: 0.9888\n"
          ]
        }
      ]
    },
    {
      "cell_type": "code",
      "source": [
        "print(loss)"
      ],
      "metadata": {
        "colab": {
          "base_uri": "https://localhost:8080/"
        },
        "id": "P2hncz2mx7Op",
        "outputId": "33fbd21b-85af-4595-a1ad-25606ac623ba"
      },
      "execution_count": 23,
      "outputs": [
        {
          "output_type": "stream",
          "name": "stdout",
          "text": [
            "0.04006801173090935\n"
          ]
        }
      ]
    },
    {
      "cell_type": "code",
      "source": [
        "print(accuracy)"
      ],
      "metadata": {
        "colab": {
          "base_uri": "https://localhost:8080/"
        },
        "id": "K0isybsax9tu",
        "outputId": "e4df1dcb-f298-4c0f-91bc-7e73fa40766d"
      },
      "execution_count": 24,
      "outputs": [
        {
          "output_type": "stream",
          "name": "stdout",
          "text": [
            "0.9887999892234802\n"
          ]
        }
      ]
    },
    {
      "cell_type": "markdown",
      "source": [
        "- Refer to https://machinelearningmastery.com/how-to-develop-a-convolutional-neural-network-from-scratch-for-mnist-handwritten-digit-classification/ for improving the model."
      ],
      "metadata": {
        "id": "Z1EB_ZT_ymuT"
      }
    }
  ]
}