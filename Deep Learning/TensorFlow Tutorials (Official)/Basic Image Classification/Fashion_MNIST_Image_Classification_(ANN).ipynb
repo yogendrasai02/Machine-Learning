{
  "nbformat": 4,
  "nbformat_minor": 0,
  "metadata": {
    "colab": {
      "provenance": []
    },
    "kernelspec": {
      "name": "python3",
      "display_name": "Python 3"
    },
    "language_info": {
      "name": "python"
    },
    "accelerator": "GPU",
    "gpuClass": "standard"
  },
  "cells": [
    {
      "cell_type": "markdown",
      "source": [
        "# Fashion MNIST Image Classification using ANN\n",
        "\n",
        "TensorFlow tutorial: https://www.tensorflow.org/tutorials/keras/classification"
      ],
      "metadata": {
        "id": "h8DWSQr-HsIu"
      }
    },
    {
      "cell_type": "markdown",
      "source": [
        "## Import Libraries"
      ],
      "metadata": {
        "id": "SwncAKqUHff_"
      }
    },
    {
      "cell_type": "code",
      "source": [
        "import numpy as np\n",
        "import pandas as pd\n",
        "import matplotlib.pyplot as plt\n",
        "\n",
        "import tensorflow as tf\n",
        "print(tf.__version__)\n",
        "print(tf.test.gpu_device_name()) # check GPU device name"
      ],
      "metadata": {
        "colab": {
          "base_uri": "https://localhost:8080/"
        },
        "id": "g1PWu6lIHdcY",
        "outputId": "6bd61ada-e368-48f4-9bd5-4aebb68114f1"
      },
      "execution_count": 1,
      "outputs": [
        {
          "output_type": "stream",
          "name": "stdout",
          "text": [
            "2.9.2\n",
            "/device:GPU:0\n"
          ]
        }
      ]
    },
    {
      "cell_type": "markdown",
      "source": [
        "## Load Dataset\n",
        "\n",
        "- Fashion MNIST dataset can be retrieved from TensorFlow's `tf.keras.datasets` API: https://www.tensorflow.org/api_docs/python/tf/keras/datasets/fashion_mnist/load_data \n",
        "\n",
        "- This is a dataset of 60,000 28x28 grayscale images of 10 fashion categories, along with a test set of 10,000 images.\n",
        "\n",
        "- The classes are:\n",
        "\n",
        "| Label | Description |\n",
        "| -- | -- |\n",
        "| 0 |\tT-shirt/top |\n",
        "| 1 |\tTrouser |\n",
        "| 2 |\tPullover |\n",
        "| 3 |\tDress |\n",
        "| 4 |\tCoat |\n",
        "| 5 |\tSandal |\n",
        "| 6 |\tShirt |\n",
        "| 7 |\tSneaker |\n",
        "| 8 |\tBag |\n",
        "| 9 |\tAnkle boot |"
      ],
      "metadata": {
        "id": "hMe0A7sFH2iC"
      }
    },
    {
      "cell_type": "code",
      "source": [
        "(x_train, y_train), (x_test, y_test) = tf.keras.datasets.fashion_mnist.load_data()"
      ],
      "metadata": {
        "id": "vXASWtTVHlnc"
      },
      "execution_count": 2,
      "outputs": []
    },
    {
      "cell_type": "code",
      "source": [
        "class_names = ['T-shirt/top', 'Trouser', 'Pullover', 'Dress', 'Coat', 'Sandal', 'Shirt', 'Sneaker', 'Bag', 'Ankle boot']\n",
        "print(class_names)"
      ],
      "metadata": {
        "colab": {
          "base_uri": "https://localhost:8080/"
        },
        "id": "8L7LZVrROpxh",
        "outputId": "462a8fbb-5d04-416b-b473-2d7d22dc0972"
      },
      "execution_count": 3,
      "outputs": [
        {
          "output_type": "stream",
          "name": "stdout",
          "text": [
            "['T-shirt/top', 'Trouser', 'Pullover', 'Dress', 'Coat', 'Sandal', 'Shirt', 'Sneaker', 'Bag', 'Ankle boot']\n"
          ]
        }
      ]
    },
    {
      "cell_type": "markdown",
      "source": [
        "## Data Exploration"
      ],
      "metadata": {
        "id": "hLyybXjJOT6V"
      }
    },
    {
      "cell_type": "code",
      "source": [
        "# see the shapes of the numpy arrays\n",
        "print(type(x_train), type(y_train), type(x_test), type(y_test))\n",
        "print(x_train.shape)\n",
        "print(y_train.shape)\n",
        "print(x_test.shape)\n",
        "print(y_test.shape)"
      ],
      "metadata": {
        "colab": {
          "base_uri": "https://localhost:8080/"
        },
        "id": "RmpVblQWOS0M",
        "outputId": "af358cc5-e0a1-4d2b-d233-7c1fce0c0fa2"
      },
      "execution_count": 4,
      "outputs": [
        {
          "output_type": "stream",
          "name": "stdout",
          "text": [
            "<class 'numpy.ndarray'> <class 'numpy.ndarray'> <class 'numpy.ndarray'> <class 'numpy.ndarray'>\n",
            "(60000, 28, 28)\n",
            "(60000,)\n",
            "(10000, 28, 28)\n",
            "(10000,)\n"
          ]
        }
      ]
    },
    {
      "cell_type": "code",
      "source": [
        "# see an individual sample\n",
        "print(y_train[100], class_names[y_train[100]])\n",
        "print(x_train[100])"
      ],
      "metadata": {
        "colab": {
          "base_uri": "https://localhost:8080/"
        },
        "id": "IYIIige4OZ7R",
        "outputId": "2bd356e2-c10b-4111-ac60-508144da840f"
      },
      "execution_count": 5,
      "outputs": [
        {
          "output_type": "stream",
          "name": "stdout",
          "text": [
            "8 Bag\n",
            "[[  0   0   0   0   0   0   0   0   0   1   0   0  18 107 119 103   9   0\n",
            "    0   0   0   0   0   0   0   0   0   0]\n",
            " [  0   0   0   0   0   0   0   0   0   0   0  99 155 113  61 118 173 117\n",
            "    0   0   3   0   0   0   0   0   0   0]\n",
            " [  0   0   0   0   0   0   0   0   1   0 110 136   0   0   0   0   0 167\n",
            "  159   0   0   2   0   0   0   0   0   0]\n",
            " [  0   0   0   0   0   1   0   6   0  72 147   0   0   5   0   2   0   0\n",
            "  174 118   0   5   0   0   0   0   0   0]\n",
            " [  0   0   0   0   0   1   5   0   0 174   4   0   4   0   0   0   0   0\n",
            "    0 204  44   0   4   0   0   0   0   0]\n",
            " [  0   0   0   0   0   0   8   0 125 128   0   9   0   0   0   0   0   2\n",
            "    0 107 152   0   6   0   0   0   0   0]\n",
            " [  0   0   0   0   0   0   0   0 184   9   0   4   0   0   0   0   0   2\n",
            "    0   0 190   0   0   2   0   0   0   0]\n",
            " [  0   0   0   1   0   2   0  73 158   0   0   0   0   1   0   0   0   0\n",
            "    4   0 157  79   0   3   1   0   0   0]\n",
            " [  0   0   2   5   1   0   0 157  98   0   2   0   0   1   0   0   0   0\n",
            "    5   0 121 145   0   0   0   0   0   0]\n",
            " [  0   0   0   0   0   0   0 231  84   0   2   1   1   0   0   0   0   0\n",
            "    1   0  92 223  16   0   7   4   1   0]\n",
            " [  0   0   0   0   0   0  38 183  81   0   0   0   2   2   1   2   1   0\n",
            "    1   0 120 226  57   0   0   0   0   0]\n",
            " [  0   0 173 216 193 213 183 164 167  98  16   0   0   0   0   0   0   0\n",
            "    0   0 107 141 111  91  90 108  50   0]\n",
            " [  0   0 185 221 217 210 202 222 200 206 202 204 109  27  12  17  61 136\n",
            "  180 221 202 225 208 214 223 240 162   0]\n",
            " [  0   0 183 220 205 200 193 184 189 182 173 194 215 216 205 207 207 195\n",
            "  185 194 194 203 212 183 193 211 153   0]\n",
            " [  0   0 190 233 203 206 214 216 195 183 176 159 175 189 202 195 186 186\n",
            "  182 186 195 209 235 203 202 215 136   0]\n",
            " [  0   0 180 228 201 202 188 183 178 192 186 181 181 177 204 217 175 179\n",
            "  184 176 166 169 175 185 152 203 107   0]\n",
            " [  0   0 167 235 200 207 207 209 207 203 198 189 182 178 186 189 178 192\n",
            "  197 195 192 185 184 205 187 255  61   0]\n",
            " [  0   0 152 250 208 214 209 202 200 202 205 204 200 192 198 204 195 205\n",
            "  206 198 199 203 214 207 179 249  55   0]\n",
            " [  0   0 126 255 211 215 210 206 203 203 203 206 204 199 206 207 200 206\n",
            "  201 199 202 208 215 195 174 211  15   0]\n",
            " [  0   0 107 255 212 211 210 211 208 206 206 207 208 208 217 214 205 206\n",
            "  204 208 211 211 220 197 182 225   0   0]\n",
            " [  0   0  63 232 211 216 212 214 212 212 214 212 211 212 223 219 210 214\n",
            "  213 212 211 209 217 208 168 190   0   0]\n",
            " [  0   0  14 255 218 221 215 218 218 217 215 213 211 215 228 220 216 222\n",
            "  217 217 216 218 212 213 189 143   0   0]\n",
            " [  0   0   0 230 227 214 217 218 216 217 217 214 216 222 226 218 218 220\n",
            "  219 218 217 218 217 215 216 113   0   0]\n",
            " [  0   0   0 177 233 216 223 222 213 213 215 212 220 226 221 220 221 218\n",
            "  222 220 220 221 217 212 219  52   0   0]\n",
            " [  0   0   0  10 223 222 220 211 213 215 220 222 226 226 221 223 222 222\n",
            "  221 218 220 219 220 223 174   0   0   0]\n",
            " [  0   0   0   0 126 241 208 210 214 214 216 216 220 220 214 213 212 212\n",
            "  210 215 217 218 215 236  42   0   1   0]\n",
            " [  0   0   0   0   0 188 237 230 233 255 255 255 255 255 255 255 255 255\n",
            "  255 255 231 229 239 161   0   0   0   0]\n",
            " [  0   0   0   0   0   0  63  95 108 105 100 103 104 105 102 100  98  97\n",
            "   96  90  80  83  60   0   0   0   0   0]]\n"
          ]
        }
      ]
    },
    {
      "cell_type": "code",
      "source": [
        "import random\n",
        "\n",
        "fig = plt.figure(figsize = (7, 7))\n",
        "\n",
        "# plot a sample of the dataset - 16 images, in a 4*4 matrix (subplots)\n",
        "for i in range(16):\n",
        "    plt.subplot(4, 4, i + 1)\n",
        "    rand_ind = random.randint(0, x_train.shape[0])\n",
        "    plt.imshow(x_train[rand_ind], cmap = 'binary')\n",
        "    plt.xticks([])\n",
        "    plt.yticks([])\n",
        "    plt.title(class_names[y_train[rand_ind]])\n",
        "\n",
        "# for space between subplots\n",
        "plt.subplots_adjust(top = 0.99, bottom = 0.01, hspace = 0.4, wspace = 0.1)\n",
        "\n",
        "plt.show()"
      ],
      "metadata": {
        "colab": {
          "base_uri": "https://localhost:8080/",
          "height": 540
        },
        "id": "Ij6WiExjOlh5",
        "outputId": "9d02678f-1ce3-4339-efb4-1875f5f89827"
      },
      "execution_count": 6,
      "outputs": [
        {
          "output_type": "display_data",
          "data": {
            "text/plain": [
              "<Figure size 504x504 with 16 Axes>"
            ],
            "image/png": "[encoded data removed]"
          },
          "metadata": {}
        }
      ]
    },
    {
      "cell_type": "markdown",
      "source": [
        "## Data Preprocessing"
      ],
      "metadata": {
        "id": "ApKu_X0IVPLE"
      }
    },
    {
      "cell_type": "markdown",
      "source": [
        "Scaling pixel intensity values:"
      ],
      "metadata": {
        "id": "pWb9dNzjVRt0"
      }
    },
    {
      "cell_type": "code",
      "source": [
        "x_train_scaled = x_train / 255.0\n",
        "x_test_scaled = x_test / 255.0\n",
        "print(x_train_scaled.min(), x_train_scaled.max())\n",
        "print(x_test_scaled.min(), x_test_scaled.max())"
      ],
      "metadata": {
        "colab": {
          "base_uri": "https://localhost:8080/"
        },
        "id": "fFAIR3DXPAnu",
        "outputId": "03d1745e-92ff-4cb4-ab75-ee8478f3f9ff"
      },
      "execution_count": 7,
      "outputs": [
        {
          "output_type": "stream",
          "name": "stdout",
          "text": [
            "0.0 1.0\n",
            "0.0 1.0\n"
          ]
        }
      ]
    },
    {
      "cell_type": "code",
      "source": [
        "# plotting a sample of the dataset (verification that data is right)\n",
        "fig = plt.figure(figsize = (7, 7))\n",
        "\n",
        "# plot a sample of the dataset - 16 images, in a 4*4 matrix (subplots)\n",
        "for i in range(16):\n",
        "    plt.subplot(4, 4, i + 1)\n",
        "    rand_ind = random.randint(0, x_train_scaled.shape[0])\n",
        "    plt.imshow(x_train_scaled[rand_ind], cmap = 'binary')\n",
        "    plt.xticks([])\n",
        "    plt.yticks([])\n",
        "    plt.title(class_names[y_train[rand_ind]])\n",
        "\n",
        "# for space between subplots\n",
        "plt.subplots_adjust(top = 0.99, bottom = 0.01, hspace = 0.4, wspace = 0.1)\n",
        "\n",
        "plt.show()"
      ],
      "metadata": {
        "colab": {
          "base_uri": "https://localhost:8080/",
          "height": 540
        },
        "id": "N7Ga5F0JVYDd",
        "outputId": "36b1f742-bb0f-47a9-ba57-417e37d21e13"
      },
      "execution_count": 8,
      "outputs": [
        {
          "output_type": "display_data",
          "data": {
            "text/plain": [
              "<Figure size 504x504 with 16 Axes>"
            ],
            "image/png": "[encoded data removed]"
          },
          "metadata": {}
        }
      ]
    },
    {
      "cell_type": "code",
      "source": [
        "# define a data preprocessing function\n",
        "\n",
        "def preprocess_data(x):\n",
        "    x_scaled = x / 255.0\n",
        "    return x_scaled"
      ],
      "metadata": {
        "id": "-VOceSJsVhMw"
      },
      "execution_count": 9,
      "outputs": []
    },
    {
      "cell_type": "code",
      "source": [
        "x_train_scaled, x_test_scaled = preprocess_data(x_train), preprocess_data(x_test)"
      ],
      "metadata": {
        "id": "f7wN2zhCWfq6"
      },
      "execution_count": 10,
      "outputs": []
    },
    {
      "cell_type": "code",
      "source": [
        "print(x_train_scaled.shape)"
      ],
      "metadata": {
        "colab": {
          "base_uri": "https://localhost:8080/"
        },
        "id": "b4wcHoAMUE3d",
        "outputId": "b4c8f900-f9f8-4077-886f-35a21ffc5ab4"
      },
      "execution_count": 11,
      "outputs": [
        {
          "output_type": "stream",
          "name": "stdout",
          "text": [
            "(60000, 28, 28)\n"
          ]
        }
      ]
    },
    {
      "cell_type": "markdown",
      "source": [
        "## Building a simple ANN model\n",
        "\n",
        "- For image classification using ANN (not CNN), pixel intensity matrix must be a 1D array &rarr; Flatten it before giving to the ANN layers."
      ],
      "metadata": {
        "id": "G-lFQoG6Wm0R"
      }
    },
    {
      "cell_type": "code",
      "source": [
        "model = tf.keras.Sequential([\n",
        "    tf.keras.layers.Flatten(input_shape = x_train_scaled[0].shape),\n",
        "    tf.keras.layers.Dense(units = 128, activation = 'relu'),\n",
        "    tf.keras.layers.Dense(units = 64, activation = 'relu'),\n",
        "    tf.keras.layers.Dense(units = 10) # len(class_names)\n",
        "])\n",
        "\n",
        "model.summary()"
      ],
      "metadata": {
        "colab": {
          "base_uri": "https://localhost:8080/"
        },
        "id": "B9z-qs2vWkDw",
        "outputId": "6f0929fb-0b06-4354-f18f-d8465252e828"
      },
      "execution_count": 12,
      "outputs": [
        {
          "output_type": "stream",
          "name": "stdout",
          "text": [
            "Model: \"sequential\"\n",
            "_________________________________________________________________\n",
            " Layer (type)                Output Shape              Param #   \n",
            "=================================================================\n",
            " flatten (Flatten)           (None, 784)               0         \n",
            "                                                                 \n",
            " dense (Dense)               (None, 128)               100480    \n",
            "                                                                 \n",
            " dense_1 (Dense)             (None, 64)                8256      \n",
            "                                                                 \n",
            " dense_2 (Dense)             (None, 10)                650       \n",
            "                                                                 \n",
            "=================================================================\n",
            "Total params: 109,386\n",
            "Trainable params: 109,386\n",
            "Non-trainable params: 0\n",
            "_________________________________________________________________\n"
          ]
        }
      ]
    },
    {
      "cell_type": "code",
      "source": [
        "# compile the model\n",
        "model.compile(\n",
        "    optimizer = 'adam',\n",
        "    loss = tf.keras.losses.SparseCategoricalCrossentropy(from_logits = True),\n",
        "    metrics = ['accuracy']\n",
        ")"
      ],
      "metadata": {
        "id": "zt6FRVQdX7oT"
      },
      "execution_count": 13,
      "outputs": []
    },
    {
      "cell_type": "code",
      "source": [
        "# train the model\n",
        "model.fit(x_train_scaled, y_train, epochs = 15)"
      ],
      "metadata": {
        "colab": {
          "base_uri": "https://localhost:8080/"
        },
        "id": "C1za5EzRYVjW",
        "outputId": "b4056af4-03d1-480d-e77c-d58184e8d663"
      },
      "execution_count": 14,
      "outputs": [
        {
          "output_type": "stream",
          "name": "stdout",
          "text": [
            "Epoch 1/15\n",
            "1875/1875 [==============================] - 7s 3ms/step - loss: 0.4937 - accuracy: 0.8236\n",
            "Epoch 2/15\n",
            "1875/1875 [==============================] - 9s 5ms/step - loss: 0.3678 - accuracy: 0.8663\n",
            "Epoch 3/15\n",
            "1875/1875 [==============================] - 9s 5ms/step - loss: 0.3300 - accuracy: 0.8779\n",
            "Epoch 4/15\n",
            "1875/1875 [==============================] - 7s 4ms/step - loss: 0.3096 - accuracy: 0.8864\n",
            "Epoch 5/15\n",
            "1875/1875 [==============================] - 5s 3ms/step - loss: 0.2930 - accuracy: 0.8912\n",
            "Epoch 6/15\n",
            "1875/1875 [==============================] - 5s 3ms/step - loss: 0.2782 - accuracy: 0.8953\n",
            "Epoch 7/15\n",
            "1875/1875 [==============================] - 5s 3ms/step - loss: 0.2662 - accuracy: 0.9005\n",
            "Epoch 8/15\n",
            "1875/1875 [==============================] - 5s 3ms/step - loss: 0.2547 - accuracy: 0.9044\n",
            "Epoch 9/15\n",
            "1875/1875 [==============================] - 5s 3ms/step - loss: 0.2476 - accuracy: 0.9075\n",
            "Epoch 10/15\n",
            "1875/1875 [==============================] - 6s 3ms/step - loss: 0.2366 - accuracy: 0.9100\n",
            "Epoch 11/15\n",
            "1875/1875 [==============================] - 5s 3ms/step - loss: 0.2304 - accuracy: 0.9126\n",
            "Epoch 12/15\n",
            "1875/1875 [==============================] - 5s 3ms/step - loss: 0.2204 - accuracy: 0.9160\n",
            "Epoch 13/15\n",
            "1875/1875 [==============================] - 5s 3ms/step - loss: 0.2143 - accuracy: 0.9189\n",
            "Epoch 14/15\n",
            "1875/1875 [==============================] - 5s 3ms/step - loss: 0.2087 - accuracy: 0.9215\n",
            "Epoch 15/15\n",
            "1875/1875 [==============================] - 5s 3ms/step - loss: 0.2022 - accuracy: 0.9230\n"
          ]
        },
        {
          "output_type": "execute_result",
          "data": {
            "text/plain": [
              "<keras.callbacks.History at 0x7fcba0444ac0>"
            ]
          },
          "metadata": {},
          "execution_count": 14
        }
      ]
    },
    {
      "cell_type": "markdown",
      "source": [
        "## Making Predictions, Analysing the model's performance"
      ],
      "metadata": {
        "id": "aMcfZphcYzUC"
      }
    },
    {
      "cell_type": "code",
      "source": [
        "# compute accuracy\n",
        "acc = model.evaluate(x_test_scaled, y_test)\n",
        "print(acc)"
      ],
      "metadata": {
        "colab": {
          "base_uri": "https://localhost:8080/"
        },
        "id": "alL_MAgLYZDd",
        "outputId": "05e2f09a-3e99-48b3-b415-cc3da6e4a57b"
      },
      "execution_count": 15,
      "outputs": [
        {
          "output_type": "stream",
          "name": "stdout",
          "text": [
            "313/313 [==============================] - 1s 3ms/step - loss: 0.3495 - accuracy: 0.8826\n",
            "[0.3494994342327118, 0.8826000094413757]\n"
          ]
        }
      ]
    },
    {
      "cell_type": "code",
      "source": [
        "# make predictions\n",
        "probability_model = tf.keras.Sequential([\n",
        "    model,\n",
        "    tf.keras.layers.Softmax()\n",
        "])\n",
        "\n",
        "probability_pred = probability_model.predict(x_test_scaled)"
      ],
      "metadata": {
        "colab": {
          "base_uri": "https://localhost:8080/"
        },
        "id": "6N9j2D2tY8zx",
        "outputId": "358d49eb-26ba-476b-b485-67764660dfff"
      },
      "execution_count": 16,
      "outputs": [
        {
          "output_type": "stream",
          "name": "stdout",
          "text": [
            "313/313 [==============================] - 1s 2ms/step\n"
          ]
        }
      ]
    },
    {
      "cell_type": "code",
      "source": [
        "print(probability_pred[0])\n",
        "print(np.argmax(probability_pred[0]))\n",
        "print(y_test[0])\n",
        "print(class_names[np.argmax(probability_pred[0])])"
      ],
      "metadata": {
        "colab": {
          "base_uri": "https://localhost:8080/"
        },
        "id": "XMW_0ayfZSi4",
        "outputId": "5b6d76b4-ec76-47cf-87f5-aa7d98642288"
      },
      "execution_count": 17,
      "outputs": [
        {
          "output_type": "stream",
          "name": "stdout",
          "text": [
            "[4.9305396e-07 1.7840765e-06 4.7483947e-08 2.6949282e-08 1.1672731e-06\n",
            " 8.0001309e-06 3.6883165e-09 1.3513941e-02 1.8945265e-10 9.8647457e-01]\n",
            "9\n",
            "9\n",
            "Ankle boot\n"
          ]
        }
      ]
    },
    {
      "cell_type": "code",
      "source": [
        "y_pred_proba = probability_model.predict(x_test_scaled)\n",
        "y_pred = []\n",
        "for y_pred_proba_i in y_pred_proba:\n",
        "    y_pred.append(np.argmax(y_pred_proba_i))"
      ],
      "metadata": {
        "colab": {
          "base_uri": "https://localhost:8080/"
        },
        "id": "IpOZcBliZUVg",
        "outputId": "661c8196-781f-4dcd-aa71-455dee01054c"
      },
      "execution_count": 18,
      "outputs": [
        {
          "output_type": "stream",
          "name": "stdout",
          "text": [
            "313/313 [==============================] - 0s 2ms/step\n"
          ]
        }
      ]
    },
    {
      "cell_type": "code",
      "source": [
        "# print confusion matrix\n",
        "cf_matrix = tf.math.confusion_matrix(y_test, y_pred)\n",
        "print(cf_matrix)"
      ],
      "metadata": {
        "colab": {
          "base_uri": "https://localhost:8080/"
        },
        "id": "yrflFaHjZYXO",
        "outputId": "3bb498e4-f8ce-4147-c23f-c9c2157d0840"
      },
      "execution_count": 19,
      "outputs": [
        {
          "output_type": "stream",
          "name": "stdout",
          "text": [
            "tf.Tensor(\n",
            "[[824   1  14  22   6   1 126   0   6   0]\n",
            " [  3 968   3  20   4   0   1   0   1   0]\n",
            " [ 11   0 717   9 160   0 102   0   1   0]\n",
            " [ 29   9  12 864  55   0  26   0   5   0]\n",
            " [  1   0  54  17 883   0  42   0   3   0]\n",
            " [  0   0   0   0   0 975   0  17   1   7]\n",
            " [111   0  55  24  90   0 708   0  12   0]\n",
            " [  0   0   0   0   0  12   0 978   0  10]\n",
            " [  3   0   2   2   3   4   7   2 977   0]\n",
            " [  0   0   0   0   0   7   1  60   0 932]], shape=(10, 10), dtype=int32)\n"
          ]
        }
      ]
    },
    {
      "cell_type": "code",
      "source": [
        "# better visualization of confusion matrix\n",
        "import seaborn as sns\n",
        "\n",
        "_ = plt.figure(figsize = (12, 12))\n",
        "sns.heatmap(cf_matrix, annot = True)"
      ],
      "metadata": {
        "colab": {
          "base_uri": "https://localhost:8080/",
          "height": 717
        },
        "id": "lV9bPuofQhKh",
        "outputId": "847971e7-3a16-4e38-df28-49e8328ee0e1"
      },
      "execution_count": 20,
      "outputs": [
        {
          "output_type": "execute_result",
          "data": {
            "text/plain": [
              "<matplotlib.axes._subplots.AxesSubplot at 0x7fcb6eea9df0>"
            ]
          },
          "metadata": {},
          "execution_count": 20
        },
        {
          "output_type": "display_data",
          "data": {
            "text/plain": [
              "<Figure size 864x864 with 2 Axes>"
            ],
            "image/png": "[encoded data removed]"
          },
          "metadata": {
            "needs_background": "light"
          }
        }
      ]
    },
    {
      "cell_type": "code",
      "source": [
        "# classification report\n",
        "from sklearn.metrics import classification_report\n",
        "print(classification_report(y_test, y_pred))"
      ],
      "metadata": {
        "colab": {
          "base_uri": "https://localhost:8080/"
        },
        "id": "ixA5pqn5Z7Cj",
        "outputId": "878cc8d2-6ac2-47b7-ae1a-6f61bb223dac"
      },
      "execution_count": 21,
      "outputs": [
        {
          "output_type": "stream",
          "name": "stdout",
          "text": [
            "              precision    recall  f1-score   support\n",
            "\n",
            "           0       0.84      0.82      0.83      1000\n",
            "           1       0.99      0.97      0.98      1000\n",
            "           2       0.84      0.72      0.77      1000\n",
            "           3       0.90      0.86      0.88      1000\n",
            "           4       0.74      0.88      0.80      1000\n",
            "           5       0.98      0.97      0.98      1000\n",
            "           6       0.70      0.71      0.70      1000\n",
            "           7       0.93      0.98      0.95      1000\n",
            "           8       0.97      0.98      0.97      1000\n",
            "           9       0.98      0.93      0.96      1000\n",
            "\n",
            "    accuracy                           0.88     10000\n",
            "   macro avg       0.89      0.88      0.88     10000\n",
            "weighted avg       0.89      0.88      0.88     10000\n",
            "\n"
          ]
        }
      ]
    },
    {
      "cell_type": "code",
      "source": [
        "# making prediction for a new unseen image (not in dataset)\n",
        "from PIL import Image\n",
        "import requests\n",
        "\n",
        "# url = 'https://contents.mediadecathlon.com/p1484240/ab565f3675dbdd7e3c486175e2c16583/p1484240.jpg'\n",
        "url_bag = 'https://assets.ajio.com/medias/sys_master/root/20220920/QgSo/6328f456f997dd1f8d0ad715/-288Wx360H-465016160-green-MODEL.jpg'\n",
        "im_bag = Image.open(requests.get(url_bag, stream = True).raw)\n",
        "new_size_bag = x_train[0].shape\n",
        "im_smaller_bag = im_bag.resize(new_size_bag)\n",
        "im_smaller_bag"
      ],
      "metadata": {
        "colab": {
          "base_uri": "https://localhost:8080/",
          "height": 45
        },
        "id": "Puf_tSAcQO4j",
        "outputId": "63ebf026-132f-438e-b663-423d144d3a4b"
      },
      "execution_count": 22,
      "outputs": [
        {
          "output_type": "execute_result",
          "data": {
            "text/plain": [
              "<PIL.Image.Image image mode=RGB size=28x28 at 0x7FCBA1E28DC0>"
            ],
            "image/png": "[encoded data removed]"
          },
          "metadata": {},
          "execution_count": 22
        }
      ]
    },
    {
      "cell_type": "code",
      "source": [
        "url_ankle_boot = 'https://m.media-amazon.com/images/I/61PmGyP9VYL._UY625_.jpg'\n",
        "im_ankle_boot = Image.open(requests.get(url_ankle_boot, stream = True).raw)\n",
        "new_size_ankle_boot = x_train[0].shape\n",
        "im_smaller_ankle_boot = im_ankle_boot.resize(new_size_ankle_boot)\n",
        "im_smaller_ankle_boot"
      ],
      "metadata": {
        "colab": {
          "base_uri": "https://localhost:8080/",
          "height": 45
        },
        "id": "2XyaLEz5WSmI",
        "outputId": "6ff1ff0a-4e1d-430f-8b21-b5f99ddd6d3c"
      },
      "execution_count": 23,
      "outputs": [
        {
          "output_type": "execute_result",
          "data": {
            "text/plain": [
              "<PIL.Image.Image image mode=RGB size=28x28 at 0x7FCB6EDC0070>"
            ],
            "image/png": "[encoded data removed]"
          },
          "metadata": {},
          "execution_count": 23
        }
      ]
    },
    {
      "cell_type": "code",
      "source": [
        "print(im_smaller_bag.format, im_smaller_bag.size, im_smaller_bag.mode)\n",
        "print(im_smaller_ankle_boot.format, im_smaller_ankle_boot.size, im_smaller_ankle_boot.mode)"
      ],
      "metadata": {
        "colab": {
          "base_uri": "https://localhost:8080/"
        },
        "id": "9w5fazTtR3Ea",
        "outputId": "8220900b-01a5-4305-ae60-863d2a552bbe"
      },
      "execution_count": 24,
      "outputs": [
        {
          "output_type": "stream",
          "name": "stdout",
          "text": [
            "None (28, 28) RGB\n",
            "None (28, 28) RGB\n"
          ]
        }
      ]
    },
    {
      "cell_type": "code",
      "source": [
        "# https://stackoverflow.com/questions/14365029/numpy-3d-image-array-to-2d\n",
        "img_2d_bag = np.asarray(im_smaller_bag)[:, :, 0]\n",
        "img_2d_ankle_boot = np.asarray(im_smaller_ankle_boot)[:, :, 0]\n",
        "print(img_2d_bag.shape)\n",
        "plt.imshow(img_2d_bag, cmap = 'binary')"
      ],
      "metadata": {
        "colab": {
          "base_uri": "https://localhost:8080/",
          "height": 300
        },
        "id": "nzdahbLpTSNI",
        "outputId": "315cacac-8925-4b94-ff68-cbf81c1bf4f5"
      },
      "execution_count": 25,
      "outputs": [
        {
          "output_type": "stream",
          "name": "stdout",
          "text": [
            "(28, 28)\n"
          ]
        },
        {
          "output_type": "execute_result",
          "data": {
            "text/plain": [
              "<matplotlib.image.AxesImage at 0x7fcc100b3070>"
            ]
          },
          "metadata": {},
          "execution_count": 25
        },
        {
          "output_type": "display_data",
          "data": {
            "text/plain": [
              "<Figure size 432x288 with 1 Axes>"
            ],
            "image/png": "[encoded data removed]"
          },
          "metadata": {
            "needs_background": "light"
          }
        }
      ]
    },
    {
      "cell_type": "code",
      "source": [
        "x_new = np.array([\n",
        "    img_2d_bag,\n",
        "    img_2d_ankle_boot\n",
        "])\n",
        "\n",
        "x_new_scaled = preprocess_data(x_new)\n",
        "print(x_new_scaled.shape)"
      ],
      "metadata": {
        "colab": {
          "base_uri": "https://localhost:8080/"
        },
        "id": "VsilZB-xU5Mt",
        "outputId": "057e259b-81db-475e-fe6a-aa4cc0a9a407"
      },
      "execution_count": 26,
      "outputs": [
        {
          "output_type": "stream",
          "name": "stdout",
          "text": [
            "(2, 28, 28)\n"
          ]
        }
      ]
    },
    {
      "cell_type": "code",
      "source": [
        "y_new_proba = probability_model.predict(x_new_scaled)"
      ],
      "metadata": {
        "colab": {
          "base_uri": "https://localhost:8080/"
        },
        "id": "S2dbUDNPVAJp",
        "outputId": "b9e2ea74-e0ec-4dad-99f5-2fd90d37c9cf"
      },
      "execution_count": 27,
      "outputs": [
        {
          "output_type": "stream",
          "name": "stdout",
          "text": [
            "1/1 [==============================] - 0s 18ms/step\n"
          ]
        }
      ]
    },
    {
      "cell_type": "code",
      "source": [
        "pred_bag = class_names[np.argmax(y_new_proba[0])]\n",
        "pred_ankle_boot = class_names[np.argmax(y_new_proba[1])]\n",
        "print(pred_bag, pred_ankle_boot)"
      ],
      "metadata": {
        "colab": {
          "base_uri": "https://localhost:8080/"
        },
        "id": "ZQuE9jcWVD8g",
        "outputId": "0d46eb2f-dfe4-49a3-ce01-de6f2e59c18c"
      },
      "execution_count": 28,
      "outputs": [
        {
          "output_type": "stream",
          "name": "stdout",
          "text": [
            "Bag Bag\n"
          ]
        }
      ]
    },
    {
      "cell_type": "code",
      "source": [
        "print(y_new_proba[0])\n",
        "print(y_new_proba[1])"
      ],
      "metadata": {
        "colab": {
          "base_uri": "https://localhost:8080/"
        },
        "id": "tbKL6VEkXNyO",
        "outputId": "e21820fc-7292-4f24-dad4-3807a87886b0"
      },
      "execution_count": 29,
      "outputs": [
        {
          "output_type": "stream",
          "name": "stdout",
          "text": [
            "[4.1501964e-17 6.0072511e-18 2.3067206e-15 2.6857487e-25 2.0518177e-17\n",
            " 0.0000000e+00 3.7690608e-08 1.2855394e-38 1.0000000e+00 8.8886602e-30]\n",
            "[1.3988079e-16 7.2197264e-17 2.6025839e-15 8.1334851e-22 2.6453719e-17\n",
            " 2.9393817e-34 9.5281283e-10 1.0519185e-33 1.0000000e+00 6.9272187e-24]\n"
          ]
        }
      ]
    }
  ]
}